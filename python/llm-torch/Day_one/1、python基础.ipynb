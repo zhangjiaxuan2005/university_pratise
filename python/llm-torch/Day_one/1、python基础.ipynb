{
 "cells": [
  {
   "metadata": {},
   "cell_type": "markdown",
   "source": "### print 输出",
   "id": "1f9c0fcea10f9279"
  },
  {
   "metadata": {
    "collapsed": true
   },
   "cell_type": "code",
   "source": "print(\"hello world\")",
   "id": "initial_id",
   "outputs": [],
   "execution_count": null
  },
  {
   "metadata": {},
   "cell_type": "markdown",
   "source": "### 基本数据类型",
   "id": "18547a5779ad6009"
  },
  {
   "metadata": {},
   "cell_type": "code",
   "source": [
    "int_val = 10\n",
    "float_val = 10.0\n",
    "bool_val = True\n",
    "text = \"hello world\"\n",
    "tuple_val = (1, 2, 3)  # 元组 不可变\n",
    "list_val = [1, 2, 3]  # 列表 可变\n",
    "set_val = {1, 2, 3}  # 集合 不可变 无序\n",
    "dict_val = {\"name\": \"ZhangSan\"}  # 字典 可变 无序 sql\n",
    "print(int_val, float_val, bool_val, text, tuple_val, list_val, set_val, dict_val)"
   ],
   "id": "39d7b9ba8ae759d8",
   "outputs": [],
   "execution_count": null
  },
  {
   "metadata": {},
   "cell_type": "markdown",
   "source": "### 运算符",
   "id": "b048a5dea6d4ab85"
  },
  {
   "metadata": {},
   "cell_type": "code",
   "source": [
    "a = 10\n",
    "print(a + 3)\n",
    "print(a - 3)\n",
    "print(a * 3)\n",
    "print(a / 3)\n",
    "print(a % 3)\n",
    "print(a // 3)  # 取整除\n",
    "print(a ** 2)\n",
    "print(a ** 0.5)  # 平方根"
   ],
   "id": "ad0e86ddca91efa0",
   "outputs": [],
   "execution_count": null
  },
  {
   "metadata": {},
   "cell_type": "markdown",
   "source": "### 运算符重载",
   "id": "1414a28be3c25e4d"
  },
  {
   "metadata": {},
   "cell_type": "code",
   "source": [
    "class Custom:\n",
    "    def __init__(self, value):\n",
    "        self.value = value\n",
    "\n",
    "    def __add__(self, other):\n",
    "        return Custom(self.value * other.value)\n",
    "\n",
    "\n",
    "a = Custom(4)\n",
    "b = Custom(6)\n",
    "c = a + b\n",
    "print(c.value)\n"
   ],
   "id": "98b02516ae6a2907",
   "outputs": [],
   "execution_count": null
  },
  {
   "metadata": {},
   "cell_type": "markdown",
   "source": "### 无穷大",
   "id": "c996800b8105a3b2"
  },
  {
   "metadata": {},
   "cell_type": "code",
   "source": [
    "pos_inf = float('inf')\n",
    "neg_inf = float('-inf')\n",
    "print(pos_inf, neg_inf)"
   ],
   "id": "44f1493417752d4e",
   "outputs": [],
   "execution_count": null
  },
  {
   "metadata": {},
   "cell_type": "markdown",
   "source": "### 非数字 NAN",
   "id": "c1b2d93dbd968390"
  },
  {
   "metadata": {},
   "cell_type": "code",
   "source": [
    "import math\n",
    "\n",
    "a = float('nan')\n",
    "print(a)\n",
    "data = [1, 2, float('nan'), 4, 5]\n",
    "print(data)\n",
    "cleaned_data = [x for x in data if not math.isnan(x)]\n",
    "print(cleaned_data)"
   ],
   "id": "7a2217808253c39f",
   "outputs": [],
   "execution_count": null
  },
  {
   "metadata": {},
   "cell_type": "markdown",
   "source": "## 字符串高级操作",
   "id": "ca8d059e30209adf"
  },
  {
   "metadata": {},
   "cell_type": "markdown",
   "source": "### 字符串格式化",
   "id": "ec00d510a9807140"
  },
  {
   "metadata": {},
   "cell_type": "code",
   "source": [
    "name = \"ZhangSan\"\n",
    "age = 18\n",
    "print(f\"My name is {name}, I am {age} years old.\")\n",
    "print(\"My name is %s, I am %d years old.\" % (name, age))\n",
    "print(\"My name is {}, I am {} years old.\".format(name, age))"
   ],
   "id": "9126697184c34d64",
   "outputs": [],
   "execution_count": null
  },
  {
   "metadata": {},
   "cell_type": "markdown",
   "source": "### 字符串查找",
   "id": "268c4ce4dc77c2af"
  },
  {
   "metadata": {},
   "cell_type": "code",
   "source": [
    "s = \"hello world\"\n",
    "print(s.find(\"world1\"))\n",
    "print(s.index(\"world\"))"
   ],
   "id": "96316d0096fe0d13",
   "outputs": [],
   "execution_count": null
  },
  {
   "metadata": {},
   "cell_type": "markdown",
   "source": "### 正则表达式",
   "id": "80ec6a3a64ea759e"
  },
  {
   "metadata": {},
   "cell_type": "code",
   "source": [
    "import re\n",
    "\n",
    "text = \"hello python3.12\"\n",
    "pattern = re.search(r\"\\d+\\.\\d+\", text)\n",
    "print(pattern.group())"
   ],
   "id": "ece0cac9ecad3318",
   "outputs": [],
   "execution_count": null
  },
  {
   "metadata": {},
   "cell_type": "markdown",
   "source": "### 字符串分割与连接",
   "id": "b82fc46003648550"
  },
  {
   "metadata": {},
   "cell_type": "code",
   "source": [
    "s = \"hello world\"\n",
    "parts = s.split()\n",
    "print(parts)"
   ],
   "id": "fc84deb7429d9087",
   "outputs": [],
   "execution_count": null
  },
  {
   "metadata": {},
   "cell_type": "code",
   "source": [
    "lines = \"linse1\\nline2\\nline3\"\n",
    "parts = lines.splitlines()\n",
    "print(parts)"
   ],
   "id": "985d37bc6e725e30",
   "outputs": [],
   "execution_count": null
  },
  {
   "metadata": {},
   "cell_type": "code",
   "source": [
    "parts = [\"hello\", \"world\"]\n",
    "s = \" \".join(parts)\n",
    "print(s)"
   ],
   "id": "531c7f62c15356fe",
   "outputs": [],
   "execution_count": null
  },
  {
   "metadata": {},
   "cell_type": "markdown",
   "source": "### 字符串对齐与填充",
   "id": "f78a9196e8a4c0e6"
  },
  {
   "metadata": {},
   "cell_type": "code",
   "source": [
    "s = \"hello\"\n",
    "print(s.center(10, \"*\"))\n",
    "print(s.ljust(10, \"*\"))\n",
    "print(s.rjust(10, \"*\"))"
   ],
   "id": "fbda87bd6f1de3f2",
   "outputs": [],
   "execution_count": null
  },
  {
   "metadata": {},
   "cell_type": "code",
   "source": "print(\"42\".zfill(5))",
   "id": "decbab58e634ae28",
   "outputs": [],
   "execution_count": null
  },
  {
   "metadata": {},
   "cell_type": "markdown",
   "source": "## 列表高级操作",
   "id": "2a3db207be3d1cde"
  },
  {
   "metadata": {},
   "cell_type": "markdown",
   "source": "### 列表切片",
   "id": "e32d990273c89771"
  },
  {
   "metadata": {},
   "cell_type": "code",
   "source": [
    "numbers = [0, 1, 2, 3, 4, 5]\n",
    "print(numbers[1])\n",
    "print(numbers[1:3])  # 左闭右开\n",
    "print(numbers[1:])\n",
    "print(numbers[:3])  # 从0开始到索引3结束，但不包含索引3\n",
    "print(numbers[-1:])  # 获取最后一个元素\n",
    "print(numbers[::2])  # 步长为2\n",
    "numbers[1:3] = [10, 20]  # 替换元素\n",
    "print(numbers)\n",
    "numbers[1:3] = []  # 删除元素\n",
    "print(numbers)"
   ],
   "id": "3cb402579a5fddcf",
   "outputs": [],
   "execution_count": null
  },
  {
   "metadata": {},
   "cell_type": "markdown",
   "source": "### 列表排序",
   "id": "69095f1f57a56426"
  },
  {
   "metadata": {},
   "cell_type": "code",
   "source": [
    "numbers = [3, 1, 4, 1, 5, 9, 2, 6]\n",
    "numbers.sort()  # 原地排序\n",
    "print(numbers)"
   ],
   "id": "f21a3d87fd4a75cf",
   "outputs": [],
   "execution_count": null
  },
  {
   "metadata": {},
   "cell_type": "code",
   "source": [
    "words = [\"banana\", \"apple\", \"date\", \"cherry\"]\n",
    "words.sort()\n",
    "print(words)\n",
    "words.sort(key=len)\n",
    "print(words)\n"
   ],
   "id": "fe1907a901c98391",
   "outputs": [],
   "execution_count": null
  },
  {
   "metadata": {},
   "cell_type": "code",
   "source": [
    "students = [\n",
    "    (\"张三\", 27),\n",
    "    (\"李四\", 24),\n",
    "    (\"王五\", 29),\n",
    "    (\"赵六\", 26),\n",
    "]\n",
    "students.sort(key=lambda x: (x[1], x[0]))\n",
    "print(students)"
   ],
   "id": "61d0d71f12394185",
   "outputs": [],
   "execution_count": null
  },
  {
   "metadata": {},
   "cell_type": "code",
   "source": [
    "numbers = [3, 1, 4, 1, 5, 9, 2, 6]\n",
    "new_numbers = sorted(numbers)  # 不改变原列表\n",
    "print(new_numbers)\n",
    "print(numbers)"
   ],
   "id": "f0285cb4101fc1ee",
   "outputs": [],
   "execution_count": null
  },
  {
   "metadata": {},
   "cell_type": "markdown",
   "source": "### 列表合并和拓展",
   "id": "1094450617cddc38"
  },
  {
   "metadata": {},
   "cell_type": "code",
   "source": [
    "list1 = [1, 2, 3]\n",
    "list2 = [4, 5, 6]\n",
    "combined_list = list1 + list2\n",
    "print(combined_list)\n",
    "list1.extend(list2)\n",
    "print(list1)"
   ],
   "id": "c40c59f4c55caaca",
   "outputs": [],
   "execution_count": null
  },
  {
   "metadata": {},
   "cell_type": "code",
   "source": [
    "List = [1]\n",
    "List *= 3\n",
    "print(List)"
   ],
   "id": "e0bac958b7af0d8f",
   "outputs": [],
   "execution_count": null
  },
  {
   "metadata": {},
   "cell_type": "markdown",
   "source": "### 列表解包",
   "id": "f1b158c7cd5f3a3e"
  },
  {
   "metadata": {},
   "cell_type": "code",
   "source": [
    "a, b, c, *_ = [1, 2, 3, 4, 5, 6]\n",
    "print(a, b, c, _)"
   ],
   "id": "d733729b37dca1c7",
   "outputs": [],
   "execution_count": null
  },
  {
   "metadata": {},
   "cell_type": "code",
   "source": [
    "a, (b, _), c, = [1, [2, 3], 4]\n",
    "print(a, b, c)"
   ],
   "id": "509e4f64490532ac",
   "outputs": [],
   "execution_count": null
  },
  {
   "metadata": {},
   "cell_type": "markdown",
   "source": "### 列表推导式",
   "id": "37df7da96649aa2a"
  },
  {
   "metadata": {},
   "cell_type": "code",
   "source": [
    "numbers = [x for x in range(10)]\n",
    "print(numbers)\n",
    "numbers = [x for x in range(10) if x % 2 == 0]\n",
    "print(numbers)"
   ],
   "id": "4965fad8af966d0e",
   "outputs": [],
   "execution_count": null
  },
  {
   "metadata": {},
   "cell_type": "code",
   "source": [
    "matrix = [[1, 2, 3],\n",
    "          [4, 5, 6],\n",
    "          [7, 8, 9]]\n",
    "result = [num for row in matrix for num in row]  # 矩阵降维\n",
    "print(result)"
   ],
   "id": "edc47ed5e225d5d5",
   "outputs": [],
   "execution_count": null
  },
  {
   "metadata": {},
   "cell_type": "markdown",
   "source": "### 列表与函数式编程",
   "id": "51d7e167713bc4a8"
  },
  {
   "metadata": {},
   "cell_type": "code",
   "source": [
    "numbers = [1, 2, 3, 4, 5]\n",
    "\n",
    "result = list(map(lambda x: x * 2, numbers))\n",
    "print(result)\n",
    "result = list(filter(lambda x: x % 2 == 0, numbers))\n",
    "print(result)"
   ],
   "id": "9e7c5db52b514239",
   "outputs": [],
   "execution_count": null
  },
  {
   "metadata": {},
   "cell_type": "markdown",
   "source": "### 列表与数据结构转换",
   "id": "b1c0dd569364e851"
  },
  {
   "metadata": {},
   "cell_type": "code",
   "source": [
    "numbers = [1, 2, 3, 4, 5]\n",
    "keys = [\"a\", \"b\", \"c\", \"d\", \"e\"]\n",
    "result = dict(zip(keys, numbers))\n",
    "print(result)"
   ],
   "id": "18d6fbe35fd34633",
   "outputs": [],
   "execution_count": null
  },
  {
   "metadata": {},
   "cell_type": "code",
   "source": [
    "numbers = [1, 2, 3, 2, 5, 6, 7, 7, 5, 1]\n",
    "result = set(numbers)\n",
    "print(result)"
   ],
   "id": "f61fd9d124283346",
   "outputs": [],
   "execution_count": null
  },
  {
   "metadata": {},
   "cell_type": "code",
   "source": [
    "words = [\"hello\", \"world\", \"python\", \"programming\"]\n",
    "result = \" \".join(words)\n",
    "print(result)"
   ],
   "id": "b892426c77714284",
   "outputs": [],
   "execution_count": null
  },
  {
   "metadata": {},
   "cell_type": "code",
   "source": [
    "import array\n",
    "\n",
    "array = array.array('f', [1, 2, 3, 4, 5])\n",
    "print(array)"
   ],
   "id": "ac0bb5cb4643e2",
   "outputs": [],
   "execution_count": null
  },
  {
   "metadata": {},
   "cell_type": "markdown",
   "source": "### 高级查找与统计",
   "id": "f99fc471ab694424"
  },
  {
   "metadata": {},
   "cell_type": "code",
   "source": [
    "numbers = [\"a\", \"b\", \"c\"]\n",
    "for index, value in enumerate(numbers):\n",
    "    print(index, value)"
   ],
   "id": "9249634845790c64",
   "outputs": [],
   "execution_count": null
  },
  {
   "metadata": {},
   "cell_type": "code",
   "source": [
    "numbers = [1, 2, 3, 2, 5, 6, 7, 7, 5, 1]\n",
    "result = numbers.count(1)\n",
    "print(result)\n",
    "result = numbers.index(3)\n",
    "print(result)"
   ],
   "id": "43331e47dd537cc1",
   "outputs": [],
   "execution_count": null
  },
  {
   "metadata": {},
   "cell_type": "code",
   "source": [
    "print(any(x > 5 for x in numbers))  # 判断是否至少有一个元素满足条件\n",
    "print(all(x > 5 for x in numbers))  # 判断是否所有元素都满足条件"
   ],
   "id": "579f4eb30c856efa",
   "outputs": [],
   "execution_count": null
  },
  {
   "metadata": {},
   "cell_type": "markdown",
   "source": "## 元组高级操作",
   "id": "bac32a48233e911"
  },
  {
   "metadata": {},
   "cell_type": "markdown",
   "source": "### 元组解包",
   "id": "2bef0b6347047ccb"
  },
  {
   "metadata": {},
   "cell_type": "code",
   "source": [
    "a, b, c = (1, 2, 3)\n",
    "print(a, b, c)\n",
    "a, *b, c = (1, 2, 3, 4, 5)  # 注意：b是列表\n",
    "print(a, b, c)"
   ],
   "id": "149b06ed21c10efe",
   "outputs": [],
   "execution_count": null
  },
  {
   "metadata": {},
   "cell_type": "markdown",
   "source": "### 元组作为字典键",
   "id": "a1bcb15329af8f4b"
  },
  {
   "metadata": {},
   "cell_type": "code",
   "source": [
    "d = {(1, 2): \"value\"}\n",
    "print(d[(1, 2)])"
   ],
   "id": "4a5108bc16ad5057",
   "outputs": [],
   "execution_count": null
  },
  {
   "metadata": {},
   "cell_type": "markdown",
   "source": "### 元组与函数的配合",
   "id": "dcfd50261b378838"
  },
  {
   "metadata": {},
   "cell_type": "code",
   "source": [
    "def min_max(items):\n",
    "    return min(items), max(items)\n",
    "\n",
    "\n",
    "min_val, max_val = min_max([1, 2, 3, 4, 5])\n",
    "print(min_val, max_val)"
   ],
   "id": "d564f3ae605145a4",
   "outputs": [],
   "execution_count": null
  },
  {
   "metadata": {},
   "cell_type": "markdown",
   "source": "### 元组推导式",
   "id": "f91ecb1e793fb6c5"
  },
  {
   "metadata": {},
   "cell_type": "code",
   "source": [
    "t = tuple(x * 2 for x in range(10))\n",
    "print(t)"
   ],
   "id": "9352be3bee3ead4c",
   "outputs": [],
   "execution_count": null
  },
  {
   "metadata": {},
   "cell_type": "markdown",
   "source": "### 元组与zip函数",
   "id": "669df0e3cad5f820"
  },
  {
   "metadata": {},
   "cell_type": "code",
   "source": [
    "keys = [\"a\", \"b\", \"c\"]\n",
    "values = [1, 2, 3]\n",
    "d = dict(zip(keys, values))\n",
    "print(d)\n",
    "keys_val = list(zip(*d))  # 解压\n",
    "print(keys_val)"
   ],
   "id": "e7eac225f72bc5cf",
   "outputs": [],
   "execution_count": null
  },
  {
   "metadata": {},
   "cell_type": "markdown",
   "source": "### 元组的内存效率",
   "id": "b6f0599b732b2128"
  },
  {
   "metadata": {},
   "cell_type": "code",
   "source": [
    "import sys\n",
    "\n",
    "List = [1, 2, 3]\n",
    "Tuple = (1, 2, 3)\n",
    "print(sys.getsizeof(List), sys.getsizeof(Tuple))"
   ],
   "id": "18935726cd196bb0",
   "outputs": [],
   "execution_count": null
  },
  {
   "metadata": {},
   "cell_type": "markdown",
   "source": "## 字典高级操作",
   "id": "357e25fb02b4c04a"
  },
  {
   "metadata": {},
   "cell_type": "markdown",
   "source": " ### 字典推导式",
   "id": "1131d0230660aa29"
  },
  {
   "metadata": {},
   "cell_type": "code",
   "source": [
    "squares = {x: x * 2 for x in range(10)}\n",
    "print(squares)"
   ],
   "id": "b1c23a49d941b27",
   "outputs": [],
   "execution_count": null
  },
  {
   "metadata": {},
   "cell_type": "code",
   "source": [
    "squares = {x: x * 2 for x in range(10) if x % 2 == 0}\n",
    "print(squares)"
   ],
   "id": "a2fc28868b733b3f",
   "outputs": [],
   "execution_count": null
  },
  {
   "metadata": {},
   "cell_type": "markdown",
   "source": "### 字典合并",
   "id": "a5bca3ac5bc43e1b"
  },
  {
   "metadata": {},
   "cell_type": "code",
   "source": [
    "d1 = {\"a\": 1, \"b\": 2}\n",
    "d2 = {\"c\": 3, \"d\": 4}\n",
    "d3 = {**d1, **d2}\n",
    "print(d3)\n",
    "d1.update(d2)\n",
    "print(d1)"
   ],
   "id": "524edd49f1126751",
   "outputs": [],
   "execution_count": null
  },
  {
   "metadata": {},
   "cell_type": "markdown",
   "source": "### 字典视图对象",
   "id": "9f6cf1555e8aa20d"
  },
  {
   "metadata": {},
   "cell_type": "code",
   "source": [
    "d = {\"a\": 1, \"b\": 2, \"c\": 3}\n",
    "keys = d.keys()\n",
    "values = d.values()\n",
    "items = d.items()\n",
    "print(list(keys), list(values), list(items))"
   ],
   "id": "7bd179887f8bea1",
   "outputs": [],
   "execution_count": null
  },
  {
   "metadata": {},
   "cell_type": "markdown",
   "source": "### 有序字典",
   "id": "6d1b595d8a026241"
  },
  {
   "metadata": {},
   "cell_type": "code",
   "source": [
    "from collections import OrderedDict\n",
    "\n",
    "d = OrderedDict()\n",
    "d[\"a\"] = 1\n",
    "d[\"b\"] = 3\n",
    "d[\"c\"] = 2\n",
    "print(list(d.items()))"
   ],
   "id": "c225dc7cb7e601bc",
   "outputs": [],
   "execution_count": null
  },
  {
   "metadata": {},
   "cell_type": "markdown",
   "source": "### 字典排序",
   "id": "1b7cdde971b546e1"
  },
  {
   "metadata": {},
   "cell_type": "code",
   "source": [
    "d = {\"a\": 1, \"b\": 3, \"c\": 2}\n",
    "sorted_keys = {k: d[k] for k in sorted(d.keys())}\n",
    "print(sorted_keys)\n",
    "sorted_values = {k: v for k, v in sorted(d.items(), key=lambda item: item[1])}\n",
    "print(sorted_values)"
   ],
   "id": "c3a24103f12b0d9f",
   "outputs": [],
   "execution_count": null
  },
  {
   "metadata": {},
   "cell_type": "markdown",
   "source": "## 集合高级操作",
   "id": "4a85e18cbb4f6421"
  },
  {
   "metadata": {},
   "cell_type": "markdown",
   "source": "### 集合运算",
   "id": "817c65a9b29eabcc"
  },
  {
   "metadata": {},
   "cell_type": "code",
   "source": [
    "a = {1, 2, 3}\n",
    "b = {3, 4, 5}\n",
    "print(a | b)  # 并集\n",
    "print(a.union(b))\n",
    "print(a & b)  # 交集\n",
    "print(a.intersection(b))\n",
    "print(a - b)  # 差集\n",
    "print(a.difference(b))\n",
    "a= {1, 2, 3}\n",
    "b = {3}\n",
    "print(a.issubset(b))  # 判断是否是子集\n",
    "print(a.issuperset(b))  # 判断是否是超集"
   ],
   "id": "d932e315f8196783",
   "outputs": [],
   "execution_count": null
  },
  {
   "metadata": {},
   "cell_type": "markdown",
   "source": "### 集合更新",
   "id": "35f3799a748e7a1"
  },
  {
   "metadata": {},
   "cell_type": "code",
   "outputs": [],
   "execution_count": null,
   "source": [
    "a = {1, 2, 3}\n",
    "b = {3, 4, 5}\n",
    "a.update(b)\n",
    "print(a)"
   ],
   "id": "19c78506e7809d69"
  },
  {
   "metadata": {},
   "cell_type": "markdown",
   "source": "### 词频统计",
   "id": "3294e4718fb457c0"
  },
  {
   "metadata": {
    "ExecuteTime": {
     "end_time": "2025-06-24T14:05:34.563297Z",
     "start_time": "2025-06-24T14:05:34.559172Z"
    }
   },
   "cell_type": "code",
   "source": [
    "text = \"hello world hello python\"\n",
    "words = text.split()\n",
    "word_counts = {word: words.count(word) for word in words}\n",
    "print(word_counts)"
   ],
   "id": "7c02b3e9b56b8a8b",
   "outputs": [
    {
     "name": "stdout",
     "output_type": "stream",
     "text": [
      "{'hello': 2, 'world': 1, 'python': 1}\n"
     ]
    }
   ],
   "execution_count": 22
  },
  {
   "metadata": {},
   "cell_type": "markdown",
   "source": "## 类与函数",
   "id": "bc46c2ae39db541b"
  },
  {
   "metadata": {},
   "cell_type": "markdown",
   "source": "### 定义函数",
   "id": "37bbfda59581d63f"
  },
  {
   "metadata": {
    "ExecuteTime": {
     "end_time": "2025-06-24T14:08:22.805976Z",
     "start_time": "2025-06-24T14:08:22.801857Z"
    }
   },
   "cell_type": "code",
   "source": [
    "def add(a, b):\n",
    "    return a + b\n",
    "\n",
    "print(add(1, 2))"
   ],
   "id": "70cc92fa4cf3b77b",
   "outputs": [
    {
     "name": "stdout",
     "output_type": "stream",
     "text": [
      "3\n"
     ]
    }
   ],
   "execution_count": 23
  },
  {
   "metadata": {},
   "cell_type": "markdown",
   "source": "### 定义类",
   "id": "5235f5e758e52cc5"
  },
  {
   "metadata": {
    "ExecuteTime": {
     "end_time": "2025-06-24T14:09:28.649894Z",
     "start_time": "2025-06-24T14:09:28.644358Z"
    }
   },
   "cell_type": "code",
   "source": [
    "class Person:\n",
    "    def __init__(self, name, age):\n",
    "        self.name = name\n",
    "        self.age = age\n",
    "    def say_hello(self):\n",
    "        print(f\"Hello, my name is {self.name} and I am {self.age} years old.\")\n",
    "\n",
    "person = Person(\"Alice\", 25)\n",
    "person.say_hello()"
   ],
   "id": "28ebde2ff9fe4b22",
   "outputs": [
    {
     "name": "stdout",
     "output_type": "stream",
     "text": [
      "Hello, my name is Alice and I am 25 years old.\n"
     ]
    }
   ],
   "execution_count": 24
  },
  {
   "metadata": {},
   "cell_type": "markdown",
   "source": "### 继承",
   "id": "e471b3da4f033b10"
  },
  {
   "metadata": {
    "ExecuteTime": {
     "end_time": "2025-06-24T14:10:10.675594Z",
     "start_time": "2025-06-24T14:10:10.669502Z"
    }
   },
   "cell_type": "code",
   "source": [
    "class Student(Person):\n",
    "    def __init__(self, name, age, grade):\n",
    "        super().__init__(name, age)\n",
    "        self.grade = grade\n",
    "    def say_hello(self):\n",
    "        print(f\"Hello, my name is {self.name}, I am {self.age} years old, and I am in grade {self.grade}.\")\n",
    "\n",
    "student = Student(\"Bob\", 18, 12)\n",
    "student.say_hello()"
   ],
   "id": "3908e32d0d4b7c58",
   "outputs": [
    {
     "name": "stdout",
     "output_type": "stream",
     "text": [
      "Hello, my name is Bob, I am 18 years old, and I am in grade 12.\n"
     ]
    }
   ],
   "execution_count": 25
  }
 ],
 "metadata": {
  "kernelspec": {
   "display_name": "Python 3",
   "language": "python",
   "name": "python3"
  },
  "language_info": {
   "codemirror_mode": {
    "name": "ipython",
    "version": 2
   },
   "file_extension": ".py",
   "mimetype": "text/x-python",
   "name": "python",
   "nbconvert_exporter": "python",
   "pygments_lexer": "ipython2",
   "version": "2.7.6"
  }
 },
 "nbformat": 4,
 "nbformat_minor": 5
}
