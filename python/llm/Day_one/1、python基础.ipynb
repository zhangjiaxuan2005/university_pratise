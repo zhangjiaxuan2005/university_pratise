{
 "cells": [
  {
   "metadata": {},
   "cell_type": "markdown",
   "source": "### print 输出",
   "id": "1f9c0fcea10f9279"
  },
  {
   "metadata": {
    "collapsed": true
   },
   "cell_type": "code",
   "source": "print(\"hello world\")",
   "id": "initial_id",
   "outputs": [],
   "execution_count": null
  },
  {
   "metadata": {},
   "cell_type": "markdown",
   "source": "### 基本数据类型",
   "id": "18547a5779ad6009"
  },
  {
   "metadata": {},
   "cell_type": "code",
   "source": [
    "int_val = 10\n",
    "float_val = 10.0\n",
    "bool_val = True\n",
    "text = \"hello world\"\n",
    "tuple_val = (1, 2, 3)  # 元组 不可变\n",
    "list_val = [1, 2, 3]  # 列表 可变\n",
    "set_val = {1, 2, 3}  # 集合 不可变 无序\n",
    "dict_val = {\"name\": \"ZhangSan\"}  # 字典 可变 无序 sql\n",
    "print(int_val, float_val, bool_val, text, tuple_val, list_val, set_val, dict_val)"
   ],
   "id": "39d7b9ba8ae759d8",
   "outputs": [],
   "execution_count": null
  },
  {
   "metadata": {},
   "cell_type": "markdown",
   "source": "### 运算符",
   "id": "b048a5dea6d4ab85"
  },
  {
   "metadata": {},
   "cell_type": "code",
   "source": [
    "a = 10\n",
    "print(a + 3)\n",
    "print(a - 3)\n",
    "print(a * 3)\n",
    "print(a / 3)\n",
    "print(a % 3)\n",
    "print(a // 3)  # 取整除\n",
    "print(a ** 2)\n",
    "print(a ** 0.5)  # 平方根"
   ],
   "id": "ad0e86ddca91efa0",
   "outputs": [],
   "execution_count": null
  },
  {
   "metadata": {},
   "cell_type": "markdown",
   "source": "### 运算符重载",
   "id": "1414a28be3c25e4d"
  },
  {
   "metadata": {},
   "cell_type": "code",
   "source": [
    "class Custom:\n",
    "    def __init__(self, value):\n",
    "        self.value = value\n",
    "\n",
    "    def __add__(self, other):\n",
    "        return Custom(self.value * other.value)\n",
    "\n",
    "\n",
    "a = Custom(4)\n",
    "b = Custom(6)\n",
    "c = a + b\n",
    "print(c.value)\n"
   ],
   "id": "98b02516ae6a2907",
   "outputs": [],
   "execution_count": null
  },
  {
   "metadata": {},
   "cell_type": "markdown",
   "source": "### 无穷大",
   "id": "c996800b8105a3b2"
  },
  {
   "metadata": {},
   "cell_type": "code",
   "source": [
    "pos_inf = float('inf')\n",
    "neg_inf = float('-inf')\n",
    "print(pos_inf, neg_inf)"
   ],
   "id": "44f1493417752d4e",
   "outputs": [],
   "execution_count": null
  },
  {
   "metadata": {},
   "cell_type": "markdown",
   "source": "### 非数字 NAN",
   "id": "c1b2d93dbd968390"
  },
  {
   "metadata": {},
   "cell_type": "code",
   "source": [
    "import math\n",
    "\n",
    "a = float('nan')\n",
    "print(a)\n",
    "data = [1, 2, float('nan'), 4, 5]\n",
    "print(data)\n",
    "cleaned_data = [x for x in data if not math.isnan(x)]\n",
    "print(cleaned_data)"
   ],
   "id": "7a2217808253c39f",
   "outputs": [],
   "execution_count": null
  },
  {
   "metadata": {},
   "cell_type": "markdown",
   "source": "## 字符串高级操作",
   "id": "ca8d059e30209adf"
  },
  {
   "metadata": {},
   "cell_type": "markdown",
   "source": "### 字符串格式化",
   "id": "ec00d510a9807140"
  },
  {
   "metadata": {},
   "cell_type": "code",
   "source": [
    "name = \"ZhangSan\"\n",
    "age = 18\n",
    "print(f\"My name is {name}, I am {age} years old.\")\n",
    "print(\"My name is %s, I am %d years old.\" % (name, age))\n",
    "print(\"My name is {}, I am {} years old.\".format(name, age))"
   ],
   "id": "9126697184c34d64",
   "outputs": [],
   "execution_count": null
  },
  {
   "metadata": {},
   "cell_type": "markdown",
   "source": "### 字符串查找",
   "id": "268c4ce4dc77c2af"
  },
  {
   "metadata": {},
   "cell_type": "code",
   "source": [
    "s = \"hello world\"\n",
    "print(s.find(\"world1\"))\n",
    "print(s.index(\"world\"))"
   ],
   "id": "96316d0096fe0d13",
   "outputs": [],
   "execution_count": null
  },
  {
   "metadata": {},
   "cell_type": "markdown",
   "source": "### 正则表达式",
   "id": "80ec6a3a64ea759e"
  },
  {
   "metadata": {},
   "cell_type": "code",
   "source": [
    "import re\n",
    "\n",
    "text = \"hello python3.12\"\n",
    "pattern = re.search(r\"\\d+\\.\\d+\",text)\n",
    "print(pattern.group())"
   ],
   "id": "ece0cac9ecad3318",
   "outputs": [],
   "execution_count": null
  },
  {
   "metadata": {},
   "cell_type": "markdown",
   "source": "### 字符串分割与连接",
   "id": "b82fc46003648550"
  },
  {
   "metadata": {},
   "cell_type": "code",
   "source": [
    "s = \"hello world\"\n",
    "parts = s.split()\n",
    "print(parts)"
   ],
   "id": "fc84deb7429d9087",
   "outputs": [],
   "execution_count": null
  },
  {
   "metadata": {},
   "cell_type": "code",
   "source": [
    "lines=\"linse1\\nline2\\nline3\"\n",
    "parts = lines.splitlines()\n",
    "print(parts)"
   ],
   "id": "985d37bc6e725e30",
   "outputs": [],
   "execution_count": null
  },
  {
   "metadata": {},
   "cell_type": "code",
   "source": [
    "parts = [\"hello\", \"world\"]\n",
    "s = \" \".join(parts)\n",
    "print(s)"
   ],
   "id": "531c7f62c15356fe",
   "outputs": [],
   "execution_count": null
  },
  {
   "metadata": {},
   "cell_type": "markdown",
   "source": "### 字符串对齐与填充",
   "id": "f78a9196e8a4c0e6"
  },
  {
   "metadata": {},
   "cell_type": "code",
   "source": [
    "s = \"hello\"\n",
    "print(s.center(10, \"*\"))\n",
    "print(s.ljust(10, \"*\"))\n",
    "print(s.rjust(10, \"*\"))"
   ],
   "id": "fbda87bd6f1de3f2",
   "outputs": [],
   "execution_count": null
  },
  {
   "metadata": {},
   "cell_type": "code",
   "source": "print(\"42\".zfill(5))",
   "id": "decbab58e634ae28",
   "outputs": [],
   "execution_count": null
  },
  {
   "metadata": {},
   "cell_type": "markdown",
   "source": "## 列表高级操作",
   "id": "2a3db207be3d1cde"
  },
  {
   "metadata": {},
   "cell_type": "markdown",
   "source": "### 列表切片",
   "id": "e32d990273c89771"
  },
  {
   "metadata": {},
   "cell_type": "code",
   "source": "numbers = [1, 2, 3, 4, 5]",
   "id": "3cb402579a5fddcf",
   "outputs": [],
   "execution_count": null
  }
 ],
 "metadata": {
  "kernelspec": {
   "display_name": "Python 3",
   "language": "python",
   "name": "python3"
  },
  "language_info": {
   "codemirror_mode": {
    "name": "ipython",
    "version": 2
   },
   "file_extension": ".py",
   "mimetype": "text/x-python",
   "name": "python",
   "nbconvert_exporter": "python",
   "pygments_lexer": "ipython2",
   "version": "2.7.6"
  }
 },
 "nbformat": 4,
 "nbformat_minor": 5
}
