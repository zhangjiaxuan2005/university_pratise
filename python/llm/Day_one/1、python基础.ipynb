{
 "cells": [
  {
   "metadata": {},
   "cell_type": "markdown",
   "source": "### print 输出",
   "id": "1f9c0fcea10f9279"
  },
  {
   "metadata": {
    "collapsed": true,
    "ExecuteTime": {
     "end_time": "2025-06-23T06:28:10.915225Z",
     "start_time": "2025-06-23T06:28:10.905631Z"
    }
   },
   "cell_type": "code",
   "outputs": [
    {
     "name": "stdout",
     "output_type": "stream",
     "text": [
      "hello world\n"
     ]
    }
   ],
   "execution_count": 1,
   "source": "print(\"hello world\")",
   "id": "initial_id"
  },
  {
   "metadata": {},
   "cell_type": "markdown",
   "source": "### 基本数据类型",
   "id": "18547a5779ad6009"
  },
  {
   "metadata": {
    "ExecuteTime": {
     "end_time": "2025-06-23T06:42:06.394209Z",
     "start_time": "2025-06-23T06:42:06.389598Z"
    }
   },
   "cell_type": "code",
   "source": [
    "int_val = 10\n",
    "float_val = 10.0\n",
    "bool_val = True\n",
    "text = \"hello world\"\n",
    "tuple_val = (1, 2, 3)  # 元组 不可变\n",
    "list_val = [1, 2, 3]  # 列表 可变\n",
    "set_val = {1, 2, 3}  # 集合 不可变 无序\n",
    "dict_val = {\"name\": \"ZhangSan\"}  # 字典 可变 无序 sql\n",
    "print(int_val, float_val, bool_val, text, tuple_val, list_val, set_val, dict_val)"
   ],
   "id": "39d7b9ba8ae759d8",
   "outputs": [
    {
     "name": "stdout",
     "output_type": "stream",
     "text": [
      "10 10.0 True hello world (1, 2, 3) [1, 2, 3] {1, 2, 3} {'name': 'ZhangSan'}\n"
     ]
    }
   ],
   "execution_count": 8
  },
  {
   "metadata": {},
   "cell_type": "markdown",
   "source": "### 运算符",
   "id": "b048a5dea6d4ab85"
  },
  {
   "metadata": {
    "ExecuteTime": {
     "end_time": "2025-06-23T06:43:55.434632Z",
     "start_time": "2025-06-23T06:43:55.430245Z"
    }
   },
   "cell_type": "code",
   "source": [
    "a = 10\n",
    "print(a + 3)\n",
    "print(a - 3)\n",
    "print(a * 3)\n",
    "print(a / 3)\n",
    "print(a % 3)\n",
    "print(a // 3)  # 取整除\n",
    "print(a ** 2)\n",
    "print(a ** 0.5)  # 平方根"
   ],
   "id": "ad0e86ddca91efa0",
   "outputs": [
    {
     "name": "stdout",
     "output_type": "stream",
     "text": [
      "13\n",
      "7\n",
      "30\n",
      "3.3333333333333335\n",
      "1\n",
      "3\n",
      "1000\n",
      "3.1622776601683795\n"
     ]
    }
   ],
   "execution_count": 9
  },
  {
   "metadata": {},
   "cell_type": "markdown",
   "source": "### 运算符重载",
   "id": "1414a28be3c25e4d"
  },
  {
   "metadata": {
    "ExecuteTime": {
     "end_time": "2025-06-23T06:52:43.277032Z",
     "start_time": "2025-06-23T06:52:43.271675Z"
    }
   },
   "cell_type": "code",
   "source": [
    "class Custom:\n",
    "    def __init__(self, value):\n",
    "        self.value = value\n",
    "\n",
    "    def __add__(self, other):\n",
    "        return Custom(self.value * other.value)\n",
    "\n",
    "\n",
    "a = Custom(4)\n",
    "b = Custom(6)\n",
    "c = a + b\n",
    "print(c.value)\n"
   ],
   "id": "98b02516ae6a2907",
   "outputs": [
    {
     "name": "stdout",
     "output_type": "stream",
     "text": [
      "24\n"
     ]
    }
   ],
   "execution_count": 11
  },
  {
   "metadata": {},
   "cell_type": "markdown",
   "source": "### 无穷大",
   "id": "c996800b8105a3b2"
  },
  {
   "metadata": {
    "ExecuteTime": {
     "end_time": "2025-06-23T06:55:28.800467Z",
     "start_time": "2025-06-23T06:55:28.795483Z"
    }
   },
   "cell_type": "code",
   "source": [
    "pos_inf = float('inf')\n",
    "neg_inf = float('-inf')\n",
    "print(pos_inf, neg_inf)"
   ],
   "id": "44f1493417752d4e",
   "outputs": [
    {
     "name": "stdout",
     "output_type": "stream",
     "text": [
      "inf -inf\n"
     ]
    }
   ],
   "execution_count": 12
  },
  {
   "metadata": {},
   "cell_type": "markdown",
   "source": "### 非数字 NAN",
   "id": "c1b2d93dbd968390"
  },
  {
   "metadata": {
    "ExecuteTime": {
     "end_time": "2025-06-23T06:59:04.799990Z",
     "start_time": "2025-06-23T06:59:04.793332Z"
    }
   },
   "cell_type": "code",
   "source": [
    "import math\n",
    "\n",
    "a = float('nan')\n",
    "print(a)\n",
    "data = [1, 2, float('nan'), 4, 5]\n",
    "print(data)\n",
    "cleaned_data = [x for x in data if not math.isnan(x)]\n",
    "print(cleaned_data)"
   ],
   "id": "7a2217808253c39f",
   "outputs": [
    {
     "name": "stdout",
     "output_type": "stream",
     "text": [
      "nan\n",
      "[1, 2, nan, 4, 5]\n",
      "[1, 2, 4, 5]\n"
     ]
    }
   ],
   "execution_count": 13
  },
  {
   "metadata": {},
   "cell_type": "markdown",
   "source": "## 字符串高级操作",
   "id": "ca8d059e30209adf"
  },
  {
   "metadata": {},
   "cell_type": "markdown",
   "source": "### 字符串格式化",
   "id": "ec00d510a9807140"
  },
  {
   "metadata": {
    "ExecuteTime": {
     "end_time": "2025-06-23T07:02:15.438625Z",
     "start_time": "2025-06-23T07:02:15.434327Z"
    }
   },
   "cell_type": "code",
   "source": [
    "name = \"ZhangSan\"\n",
    "age = 18\n",
    "print(f\"My name is {name}, I am {age} years old.\")\n",
    "print(\"My name is %s, I am %d years old.\" % (name, age))\n",
    "print(\"My name is {}, I am {} years old.\".format(name, age))"
   ],
   "id": "9126697184c34d64",
   "outputs": [
    {
     "name": "stdout",
     "output_type": "stream",
     "text": [
      "My name is ZhangSan, I am 18 years old.\n",
      "My name is ZhangSan, I am 18 years old.\n",
      "My name is ZhangSan, I am 18 years old.\n"
     ]
    }
   ],
   "execution_count": 14
  },
  {
   "metadata": {},
   "cell_type": "markdown",
   "source": "### 字符串查找",
   "id": "268c4ce4dc77c2af"
  },
  {
   "metadata": {
    "ExecuteTime": {
     "end_time": "2025-06-23T07:04:39.682661Z",
     "start_time": "2025-06-23T07:04:39.678261Z"
    }
   },
   "cell_type": "code",
   "source": [
    "s = \"hello world\"\n",
    "print(s.find(\"world1\"))\n",
    "print(s.index(\"world\"))"
   ],
   "id": "96316d0096fe0d13",
   "outputs": [
    {
     "name": "stdout",
     "output_type": "stream",
     "text": [
      "-1\n",
      "6\n"
     ]
    }
   ],
   "execution_count": 16
  },
  {
   "metadata": {},
   "cell_type": "markdown",
   "source": "### 正则表达式",
   "id": "80ec6a3a64ea759e"
  },
  {
   "metadata": {
    "ExecuteTime": {
     "end_time": "2025-06-23T07:08:53.257023Z",
     "start_time": "2025-06-23T07:08:53.252615Z"
    }
   },
   "cell_type": "code",
   "source": [
    "import re\n",
    "\n",
    "text = \"hello python3.12\"\n",
    "pattern = re.search(r\"\\d+\\.\\d+\",text)\n",
    "print(pattern.group())"
   ],
   "id": "ece0cac9ecad3318",
   "outputs": [
    {
     "name": "stdout",
     "output_type": "stream",
     "text": [
      "3.12\n"
     ]
    }
   ],
   "execution_count": 18
  },
  {
   "metadata": {},
   "cell_type": "markdown",
   "source": "### 字符串分割与连接",
   "id": "b82fc46003648550"
  },
  {
   "metadata": {
    "ExecuteTime": {
     "end_time": "2025-06-23T07:09:47.608279Z",
     "start_time": "2025-06-23T07:09:47.603430Z"
    }
   },
   "cell_type": "code",
   "source": [
    "s = \"hello world\"\n",
    "parts = s.split()\n",
    "print(parts)"
   ],
   "id": "fc84deb7429d9087",
   "outputs": [
    {
     "name": "stdout",
     "output_type": "stream",
     "text": [
      "['hello', 'world']\n"
     ]
    }
   ],
   "execution_count": 19
  },
  {
   "metadata": {
    "ExecuteTime": {
     "end_time": "2025-06-23T07:11:03.854474Z",
     "start_time": "2025-06-23T07:11:03.850691Z"
    }
   },
   "cell_type": "code",
   "source": [
    "lines=\"linse1\\nline2\\nline3\"\n",
    "parts = lines.splitlines()\n",
    "print(parts)"
   ],
   "id": "985d37bc6e725e30",
   "outputs": [
    {
     "name": "stdout",
     "output_type": "stream",
     "text": [
      "['linse1', 'line2', 'line3']\n"
     ]
    }
   ],
   "execution_count": 20
  },
  {
   "metadata": {
    "ExecuteTime": {
     "end_time": "2025-06-23T07:12:45.005142Z",
     "start_time": "2025-06-23T07:12:45.001905Z"
    }
   },
   "cell_type": "code",
   "source": [
    "parts = [\"hello\", \"world\"]\n",
    "s = \" \".join(parts)\n",
    "print(s)"
   ],
   "id": "531c7f62c15356fe",
   "outputs": [
    {
     "name": "stdout",
     "output_type": "stream",
     "text": [
      "hello world\n"
     ]
    }
   ],
   "execution_count": 21
  },
  {
   "metadata": {},
   "cell_type": "markdown",
   "source": "### 字符串对齐与填充",
   "id": "f78a9196e8a4c0e6"
  },
  {
   "metadata": {
    "ExecuteTime": {
     "end_time": "2025-06-23T07:14:09.252744Z",
     "start_time": "2025-06-23T07:14:09.247412Z"
    }
   },
   "cell_type": "code",
   "source": [
    "s = \"hello\"\n",
    "print(s.center(10, \"*\"))\n",
    "print(s.ljust(10, \"*\"))\n",
    "print(s.rjust(10, \"*\"))"
   ],
   "id": "fbda87bd6f1de3f2",
   "outputs": [
    {
     "name": "stdout",
     "output_type": "stream",
     "text": [
      "**hello***\n",
      "hello*****\n",
      "*****hello\n"
     ]
    }
   ],
   "execution_count": 22
  },
  {
   "metadata": {
    "ExecuteTime": {
     "end_time": "2025-06-23T07:15:33.493734Z",
     "start_time": "2025-06-23T07:15:33.488194Z"
    }
   },
   "cell_type": "code",
   "source": "print(\"42\".zfill(5))",
   "id": "decbab58e634ae28",
   "outputs": [
    {
     "name": "stdout",
     "output_type": "stream",
     "text": [
      "00042\n"
     ]
    }
   ],
   "execution_count": 24
  },
  {
   "metadata": {},
   "cell_type": "markdown",
   "source": "## 列表高级操作",
   "id": "2a3db207be3d1cde"
  },
  {
   "metadata": {},
   "cell_type": "markdown",
   "source": "### 列表切片",
   "id": "e32d990273c89771"
  },
  {
   "metadata": {},
   "cell_type": "code",
   "outputs": [],
   "execution_count": null,
   "source": "numbers = [1, 2, 3, 4, 5]",
   "id": "3cb402579a5fddcf"
  }
 ],
 "metadata": {
  "kernelspec": {
   "display_name": "Python 3",
   "language": "python",
   "name": "python3"
  },
  "language_info": {
   "codemirror_mode": {
    "name": "ipython",
    "version": 2
   },
   "file_extension": ".py",
   "mimetype": "text/x-python",
   "name": "python",
   "nbconvert_exporter": "python",
   "pygments_lexer": "ipython2",
   "version": "2.7.6"
  }
 },
 "nbformat": 4,
 "nbformat_minor": 5
}
