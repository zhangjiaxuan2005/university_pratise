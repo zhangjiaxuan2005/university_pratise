{
 "cells": [
  {
   "metadata": {},
   "cell_type": "markdown",
   "source": "## numpy 快速入门",
   "id": "45f72aca625ab5be"
  },
  {
   "metadata": {},
   "cell_type": "markdown",
   "source": "### 向量",
   "id": "df746ad643c6d64"
  },
  {
   "metadata": {},
   "cell_type": "code",
   "source": [
    "import numpy as np\n",
    "\n",
    "a = np.array([1, 2, 3])\n",
    "b = np.array([4, 5, 6])\n",
    "print(a)\n",
    "print(b)\n",
    "print(a + b)\n",
    "print(a * b)"
   ],
   "id": "fa438f6b3cdd3fbe",
   "outputs": [],
   "execution_count": null
  },
  {
   "metadata": {},
   "cell_type": "markdown",
   "source": "### 矩阵",
   "id": "53c8b2fa20ba25ec"
  },
  {
   "metadata": {},
   "cell_type": "code",
   "source": [
    "A = np.array([[1, 2, 3], [3, 4, 5]])\n",
    "print(A)\n",
    "print(A.shape)\n",
    "print(A.ndim)\n",
    "print(A.size)\n",
    "print(A.T)"
   ],
   "id": "3bf43f6eed907090",
   "outputs": [],
   "execution_count": null
  },
  {
   "metadata": {},
   "cell_type": "markdown",
   "source": "### 矩阵乘法",
   "id": "bc0c00896a150ad8"
  },
  {
   "metadata": {},
   "cell_type": "code",
   "source": [
    "B = np.array([[1, 2], [3, 4], [5, 6]])\n",
    "print(np.dot(A, B))\n",
    "print(A @ B)"
   ],
   "id": "1a48fea2b1064e5d",
   "outputs": [],
   "execution_count": null
  },
  {
   "metadata": {},
   "cell_type": "markdown",
   "source": "## pytorch 快速入门",
   "id": "a834cfddaa55bd80"
  },
  {
   "metadata": {},
   "cell_type": "markdown",
   "source": "### 张量",
   "id": "ade341dfe27288c1"
  },
  {
   "metadata": {},
   "cell_type": "code",
   "source": [
    "import torch\n",
    "\n",
    "x = torch.tensor([1, 2, 3])\n",
    "print(x)"
   ],
   "id": "de0dc76dc28b90ae",
   "outputs": [],
   "execution_count": null
  },
  {
   "metadata": {},
   "cell_type": "markdown",
   "source": "### 矩阵",
   "id": "783cc80a216619a0"
  },
  {
   "metadata": {},
   "cell_type": "code",
   "source": [
    "import torch\n",
    "\n",
    "random_tensor = torch.rand(3, 3)  # 0-1均匀分布\n",
    "print(random_tensor)\n",
    "random_tensor = torch.randn(2, 3)  # 标准正态分布\n",
    "print(random_tensor)"
   ],
   "id": "c7e63208f762bb4a",
   "outputs": [],
   "execution_count": null
  },
  {
   "metadata": {},
   "cell_type": "markdown",
   "source": "### 张量运算",
   "id": "5994cf509664925f"
  },
  {
   "metadata": {},
   "cell_type": "code",
   "source": [
    "x = torch.tensor([1, 2, 3])\n",
    "y = torch.tensor([4, 5, 6])\n",
    "print(x + y)\n",
    "print(x * y)\n",
    "print(torch.dot(x, y))"
   ],
   "id": "e8461a76f673666c",
   "outputs": [],
   "execution_count": null
  },
  {
   "metadata": {},
   "cell_type": "markdown",
   "source": "### 矩阵乘法",
   "id": "c448cfa11ac634cd"
  },
  {
   "metadata": {},
   "cell_type": "code",
   "source": [
    "A = torch.tensor([[1, 2, 3], [3, 4, 5]])\n",
    "B = torch.tensor([[1, 2], [3, 4], [5, 6]])\n",
    "print(torch.matmul(A, B))"
   ],
   "id": "a0e7e31ea142a456",
   "outputs": [],
   "execution_count": null
  },
  {
   "metadata": {},
   "cell_type": "markdown",
   "source": "### dataset和dataloader",
   "id": "8769d90b382d45fb"
  },
  {
   "metadata": {},
   "cell_type": "code",
   "source": [
    "import torch\n",
    "from torch.utils.data import Dataset, DataLoader\n",
    "\n",
    "\n",
    "class MyDataset(Dataset):\n",
    "    def __init__(self, data):\n",
    "        self.data = data\n",
    "\n",
    "    def __len__(self):\n",
    "        return len(self.data)\n",
    "\n",
    "    def __getitem__(self, index):\n",
    "        return self.data[index]\n",
    "\n",
    "\n",
    "data = torch.tensor([1, 2, 3, 4, 5, 6, 7, 8, 9, 10])\n",
    "dataset = MyDataset(data)\n",
    "len(dataset)\n"
   ],
   "id": "e94ce559b81ba54c",
   "outputs": [],
   "execution_count": null
  },
  {
   "metadata": {},
   "cell_type": "code",
   "source": [
    "dataloader = DataLoader(dataset, batch_size=2, shuffle=True)\n",
    "for batch in dataloader:\n",
    "    print(batch)"
   ],
   "id": "e25932d4efe9ec89",
   "outputs": [],
   "execution_count": null
  }
 ],
 "metadata": {
  "kernelspec": {
   "display_name": "Python 3",
   "language": "python",
   "name": "python3"
  },
  "language_info": {
   "codemirror_mode": {
    "name": "ipython",
    "version": 2
   },
   "file_extension": ".py",
   "mimetype": "text/x-python",
   "name": "python",
   "nbconvert_exporter": "python",
   "pygments_lexer": "ipython2",
   "version": "2.7.6"
  }
 },
 "nbformat": 4,
 "nbformat_minor": 5
}
