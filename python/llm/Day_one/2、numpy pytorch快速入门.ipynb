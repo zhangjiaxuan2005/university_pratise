{
 "cells": [
  {
   "metadata": {},
   "cell_type": "markdown",
   "source": "## numpy 快速入门",
   "id": "45f72aca625ab5be"
  },
  {
   "metadata": {},
   "cell_type": "markdown",
   "source": "### 向量",
   "id": "df746ad643c6d64"
  },
  {
   "metadata": {},
   "cell_type": "code",
   "source": [
    "import numpy as np\n",
    "\n",
    "a = np.array([1, 2, 3])\n",
    "b = np.array([4, 5, 6])\n",
    "print(a)\n",
    "print(b)\n",
    "print(a + b)\n",
    "print(a * b)"
   ],
   "id": "fa438f6b3cdd3fbe",
   "outputs": [],
   "execution_count": null
  },
  {
   "metadata": {},
   "cell_type": "markdown",
   "source": "### 矩阵",
   "id": "53c8b2fa20ba25ec"
  },
  {
   "metadata": {},
   "cell_type": "code",
   "source": [
    "A = np.array([[1, 2, 3], [3, 4, 5]])\n",
    "print(A)\n",
    "print(A.shape)\n",
    "print(A.ndim)\n",
    "print(A.size)\n",
    "print(A.T)"
   ],
   "id": "3bf43f6eed907090",
   "outputs": [],
   "execution_count": null
  },
  {
   "metadata": {},
   "cell_type": "markdown",
   "source": "### 矩阵乘法",
   "id": "bc0c00896a150ad8"
  },
  {
   "metadata": {
    "ExecuteTime": {
     "end_time": "2025-06-24T14:22:40.705961Z",
     "start_time": "2025-06-24T14:22:40.701244Z"
    }
   },
   "cell_type": "code",
   "source": [
    "B = np.array([[1, 2], [3, 4], [5, 6]])\n",
    "print(np.dot(A, B))\n",
    "print(A @ B)"
   ],
   "id": "1a48fea2b1064e5d",
   "outputs": [
    {
     "name": "stdout",
     "output_type": "stream",
     "text": [
      "[[22 28]\n",
      " [40 52]]\n"
     ]
    }
   ],
   "execution_count": 6
  },
  {
   "metadata": {},
   "cell_type": "markdown",
   "source": "## pytorch 快速入门",
   "id": "a834cfddaa55bd80"
  },
  {
   "metadata": {},
   "cell_type": "code",
   "outputs": [],
   "execution_count": null,
   "source": [
    "import torch\n",
    "\n",
    "x = torch.tensor([1, 2, 3])\n",
    "print(x)"
   ],
   "id": "de0dc76dc28b90ae"
  }
 ],
 "metadata": {
  "kernelspec": {
   "display_name": "Python 3",
   "language": "python",
   "name": "python3"
  },
  "language_info": {
   "codemirror_mode": {
    "name": "ipython",
    "version": 2
   },
   "file_extension": ".py",
   "mimetype": "text/x-python",
   "name": "python",
   "nbconvert_exporter": "python",
   "pygments_lexer": "ipython2",
   "version": "2.7.6"
  }
 },
 "nbformat": 4,
 "nbformat_minor": 5
}
