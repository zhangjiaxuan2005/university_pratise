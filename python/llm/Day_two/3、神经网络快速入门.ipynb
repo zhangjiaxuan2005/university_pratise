{
 "cells": [
  {
   "metadata": {},
   "cell_type": "markdown",
   "source": "## 神经网络快速入门",
   "id": "cfb384a9a638c368"
  },
  {
   "metadata": {},
   "cell_type": "markdown",
   "source": "### 简单网络",
   "id": "60040dea8eac0e3e"
  },
  {
   "metadata": {
    "collapsed": true
   },
   "cell_type": "code",
   "outputs": [],
   "execution_count": null,
   "source": [
    "import numpy as np\n",
    "\n",
    "x = np.random.randint(1, 100, 100)\n",
    "y = np.array([i * 10 + np.random.randint(1, 100, 100) for i in x])"
   ],
   "id": "initial_id"
  },
  {
   "metadata": {},
   "cell_type": "code",
   "outputs": [],
   "execution_count": null,
   "source": [
    "import matplotlib.pyplot as plt\n",
    "\n",
    "plt.scatter(x, y)  # 绘制散点图\n",
    "plt.show()"
   ],
   "id": "a7c964a72a2ff574"
  },
  {
   "metadata": {},
   "cell_type": "markdown",
   "source": "### 归一化",
   "id": "f1c79d91d258f67"
  },
  {
   "metadata": {},
   "cell_type": "code",
   "outputs": [],
   "execution_count": null,
   "source": "",
   "id": "e973df6a2c499ffe"
  }
 ],
 "metadata": {
  "kernelspec": {
   "display_name": "Python 3",
   "language": "python",
   "name": "python3"
  },
  "language_info": {
   "codemirror_mode": {
    "name": "ipython",
    "version": 2
   },
   "file_extension": ".py",
   "mimetype": "text/x-python",
   "name": "python",
   "nbconvert_exporter": "python",
   "pygments_lexer": "ipython2",
   "version": "2.7.6"
  }
 },
 "nbformat": 4,
 "nbformat_minor": 5
}
